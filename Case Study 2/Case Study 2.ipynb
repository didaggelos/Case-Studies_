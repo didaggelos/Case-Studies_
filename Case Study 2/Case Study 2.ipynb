{
 "cells": [
  {
   "cell_type": "markdown",
   "id": "e971a397",
   "metadata": {},
   "source": [
    "# <center> Case Study 2 </center>"
   ]
  },
  {
   "cell_type": "code",
   "execution_count": 1,
   "id": "cef5f094",
   "metadata": {},
   "outputs": [],
   "source": [
    "#importing required libraries\n",
    "import pandas as pd\n",
    "import matplotlib.pyplot as plt\n",
    "import seaborn as sns"
   ]
  },
  {
   "cell_type": "code",
   "execution_count": 2,
   "id": "99f0196a",
   "metadata": {},
   "outputs": [
    {
     "data": {
      "text/html": [
       "<div>\n",
       "<style scoped>\n",
       "    .dataframe tbody tr th:only-of-type {\n",
       "        vertical-align: middle;\n",
       "    }\n",
       "\n",
       "    .dataframe tbody tr th {\n",
       "        vertical-align: top;\n",
       "    }\n",
       "\n",
       "    .dataframe thead th {\n",
       "        text-align: right;\n",
       "    }\n",
       "</style>\n",
       "<table border=\"1\" class=\"dataframe\">\n",
       "  <thead>\n",
       "    <tr style=\"text-align: right;\">\n",
       "      <th></th>\n",
       "      <th>Unnamed: 0</th>\n",
       "      <th>customer_email</th>\n",
       "      <th>net_revenue</th>\n",
       "      <th>year</th>\n",
       "    </tr>\n",
       "  </thead>\n",
       "  <tbody>\n",
       "    <tr>\n",
       "      <th>0</th>\n",
       "      <td>0</td>\n",
       "      <td>nhknapwsbx@gmail.com</td>\n",
       "      <td>249.92</td>\n",
       "      <td>2015</td>\n",
       "    </tr>\n",
       "    <tr>\n",
       "      <th>1</th>\n",
       "      <td>1</td>\n",
       "      <td>joiuzbvcpn@gmail.com</td>\n",
       "      <td>87.61</td>\n",
       "      <td>2015</td>\n",
       "    </tr>\n",
       "    <tr>\n",
       "      <th>2</th>\n",
       "      <td>2</td>\n",
       "      <td>ukkjctepxt@gmail.com</td>\n",
       "      <td>168.38</td>\n",
       "      <td>2015</td>\n",
       "    </tr>\n",
       "    <tr>\n",
       "      <th>3</th>\n",
       "      <td>3</td>\n",
       "      <td>gykatilzrt@gmail.com</td>\n",
       "      <td>62.40</td>\n",
       "      <td>2015</td>\n",
       "    </tr>\n",
       "    <tr>\n",
       "      <th>4</th>\n",
       "      <td>4</td>\n",
       "      <td>mmsgsrtxah@gmail.com</td>\n",
       "      <td>43.08</td>\n",
       "      <td>2015</td>\n",
       "    </tr>\n",
       "  </tbody>\n",
       "</table>\n",
       "</div>"
      ],
      "text/plain": [
       "   Unnamed: 0         customer_email  net_revenue  year\n",
       "0           0   nhknapwsbx@gmail.com       249.92  2015\n",
       "1           1   joiuzbvcpn@gmail.com        87.61  2015\n",
       "2           2   ukkjctepxt@gmail.com       168.38  2015\n",
       "3           3   gykatilzrt@gmail.com        62.40  2015\n",
       "4           4   mmsgsrtxah@gmail.com        43.08  2015"
      ]
     },
     "execution_count": 2,
     "metadata": {},
     "output_type": "execute_result"
    }
   ],
   "source": [
    "#reading data from csv file\n",
    "df = pd.read_csv(\"CaseStudy.csv\")\n",
    "df.head()"
   ]
  },
  {
   "cell_type": "markdown",
   "id": "6e75603f",
   "metadata": {},
   "source": [
    "####  Total revenue for the current year"
   ]
  },
  {
   "cell_type": "code",
   "execution_count": 3,
   "id": "3f746c2e",
   "metadata": {},
   "outputs": [
    {
     "data": {
      "text/plain": [
       "29036749.19"
      ]
     },
     "execution_count": 3,
     "metadata": {},
     "output_type": "execute_result"
    }
   ],
   "source": [
    "#total revenu for current year 2015\n",
    "total_revenue_2015 = round(df.query(\"year == 2015\")[\"net_revenue\"].sum(), 3)\n",
    "total_revenue_2015"
   ]
  },
  {
   "cell_type": "markdown",
   "id": "051184e4",
   "metadata": {},
   "source": [
    "Total revenue for current year 2015 is 29036749.19."
   ]
  },
  {
   "cell_type": "code",
   "execution_count": 4,
   "id": "86cf7886",
   "metadata": {},
   "outputs": [
    {
     "data": {
      "text/plain": [
       "25730943.59"
      ]
     },
     "execution_count": 4,
     "metadata": {},
     "output_type": "execute_result"
    }
   ],
   "source": [
    "#total revenu for current year 2016\n",
    "total_revenue_2016 = round(df.query(\"year == 2016\")[\"net_revenue\"].sum(), 3)\n",
    "total_revenue_2016"
   ]
  },
  {
   "cell_type": "markdown",
   "id": "e043366a",
   "metadata": {},
   "source": [
    "Total revenue for current year 2016 is 25730943.59."
   ]
  },
  {
   "cell_type": "code",
   "execution_count": 5,
   "id": "52fb2f2c",
   "metadata": {},
   "outputs": [
    {
     "data": {
      "text/plain": [
       "31417495.03"
      ]
     },
     "execution_count": 5,
     "metadata": {},
     "output_type": "execute_result"
    }
   ],
   "source": [
    "#total revenu for current year 2017\n",
    "total_revenue_2017 = round(df.query(\"year == 2017\")[\"net_revenue\"].sum(), 3)\n",
    "total_revenue_2017"
   ]
  },
  {
   "cell_type": "markdown",
   "id": "77be0178",
   "metadata": {},
   "source": [
    "Total revenue for current year 2017 is 31417495.03."
   ]
  },
  {
   "cell_type": "markdown",
   "id": "285aaf9c",
   "metadata": {},
   "source": [
    "#### New Customer Revenue e.g. new customers not present in previous year only"
   ]
  },
  {
   "cell_type": "code",
   "execution_count": 6,
   "id": "2a0f877b",
   "metadata": {},
   "outputs": [],
   "source": [
    "#separating data for years 2015, 2016 and 2017\n",
    "df_2015 = df[df[\"year\"] == 2015]\n",
    "df_2016 = df[df[\"year\"] == 2016]\n",
    "df_2017 = df[df[\"year\"] == 2017]"
   ]
  },
  {
   "cell_type": "code",
   "execution_count": 7,
   "id": "ca204fe4",
   "metadata": {},
   "outputs": [
    {
     "data": {
      "text/plain": [
       "18245491.01"
      ]
     },
     "execution_count": 7,
     "metadata": {},
     "output_type": "execute_result"
    }
   ],
   "source": [
    "#new customer_revenue in 2016\n",
    "d_2016 = df[(df[\"customer_email\"].isin(df_2016[\"customer_email\"].unique()) & ~df[\"customer_email\"].isin(df_2015[\"customer_email\"].unique()))]\n",
    "new_customer_revenue_2016 = d_2016[d_2016[\"year\"] == 2016][\"net_revenue\"].sum()\n",
    "new_customer_revenue_2016"
   ]
  },
  {
   "cell_type": "markdown",
   "id": "1b4e636f",
   "metadata": {},
   "source": [
    "New customer revenue for 2016 is 18245491.01."
   ]
  },
  {
   "cell_type": "code",
   "execution_count": 8,
   "id": "fd2b9bda",
   "metadata": {},
   "outputs": [
    {
     "data": {
      "text/plain": [
       "28676607.64"
      ]
     },
     "execution_count": 8,
     "metadata": {},
     "output_type": "execute_result"
    }
   ],
   "source": [
    "#new customer_revenue in 2017\n",
    "d_2017 = df[(df[\"customer_email\"].isin(df_2017[\"customer_email\"].unique()) & ~df[\"customer_email\"].isin(df_2015[\"customer_email\"].unique()) & ~df[\"customer_email\"].isin(df_2016[\"customer_email\"].unique()))]\n",
    "new_customer_revenue_2017 = d_2017[d_2017[\"year\"] == 2017][\"net_revenue\"].sum()\n",
    "new_customer_revenue_2017"
   ]
  },
  {
   "cell_type": "markdown",
   "id": "6ba8057d",
   "metadata": {},
   "source": [
    "New customer revenue for 2016 is 28676607.64."
   ]
  },
  {
   "cell_type": "markdown",
   "id": "a299a014",
   "metadata": {},
   "source": [
    "####  Existing Customer Growth. To calculate this, use the Revenue of existing customers for current year –(minus) Revenue of existing customers from the previous year"
   ]
  },
  {
   "cell_type": "code",
   "execution_count": 9,
   "id": "0e9a1ef3",
   "metadata": {},
   "outputs": [
    {
     "data": {
      "text/plain": [
       "20669.94"
      ]
     },
     "execution_count": 9,
     "metadata": {},
     "output_type": "execute_result"
    }
   ],
   "source": [
    "#customer growth for year 2016 compare to 2015\n",
    "d_2015_2016= df[(~df[\"customer_email\"].isin(df_2017[\"customer_email\"].unique()) & df[\"customer_email\"].isin(df_2015[\"customer_email\"].unique()) & df[\"customer_email\"].isin(df_2016[\"customer_email\"].unique()))]\n",
    "customer_growth_2016 = d_2015_2016[d_2015_2016[\"year\"] == 2016][\"net_revenue\"].sum() - d_2015_2016[d_2015_2016[\"year\"] == 2015][\"net_revenue\"].sum()\n",
    "customer_growth_2016 = round(customer_growth_2016, 3)\n",
    "customer_growth_2016"
   ]
  },
  {
   "cell_type": "markdown",
   "id": "f1d0188c",
   "metadata": {},
   "source": [
    "Existing customers growth in 2016 as compare to 2015 is 20669.94."
   ]
  },
  {
   "cell_type": "code",
   "execution_count": 10,
   "id": "7dd784a5",
   "metadata": {},
   "outputs": [
    {
     "data": {
      "text/plain": [
       "28751.41"
      ]
     },
     "execution_count": 10,
     "metadata": {},
     "output_type": "execute_result"
    }
   ],
   "source": [
    "#customer growth for year 2017 compare to 2016\n",
    "d_2016_2017= df[(df[\"customer_email\"].isin(df_2017[\"customer_email\"].unique()) & ~df[\"customer_email\"].isin(df_2015[\"customer_email\"].unique()) & df[\"customer_email\"].isin(df_2016[\"customer_email\"].unique()))]\n",
    "customer_growth_2017 = d_2016_2017[d_2016_2017[\"year\"] == 2017][\"net_revenue\"].sum() - d_2016_2017[d_2016_2017[\"year\"] == 2016][\"net_revenue\"].sum()\n",
    "customer_growth_2017 = round(customer_growth_2017, 3)\n",
    "customer_growth_2017"
   ]
  },
  {
   "cell_type": "markdown",
   "id": "2050873c",
   "metadata": {},
   "source": [
    "Existing customers growth in 2017 as compare to 2016 is 28751.41."
   ]
  },
  {
   "cell_type": "markdown",
   "id": "57cfeeac",
   "metadata": {},
   "source": [
    "#### Revenue lost from attrition"
   ]
  },
  {
   "cell_type": "code",
   "execution_count": 11,
   "id": "b937f160",
   "metadata": {},
   "outputs": [
    {
     "data": {
      "text/plain": [
       "21476000.7"
      ]
     },
     "execution_count": 11,
     "metadata": {},
     "output_type": "execute_result"
    }
   ],
   "source": [
    "#revenue lost from attrition in 2016 as compare to 2015\n",
    "df2 = df[(df[\"customer_email\"].isin(df_2015[\"customer_email\"].unique()) & ~ df[\"customer_email\"].isin(df_2016[\"customer_email\"].unique()) & ~ df[\"customer_email\"].isin(df_2017[\"customer_email\"].unique()))]\n",
    "revenue_lost_2016 = round(df2[\"net_revenue\"].sum(), 3)\n",
    "revenue_lost_2016"
   ]
  },
  {
   "cell_type": "markdown",
   "id": "cb1deb4a",
   "metadata": {},
   "source": [
    "The revenue lost from attrition in 2016 is 21476000.7."
   ]
  },
  {
   "cell_type": "code",
   "execution_count": 12,
   "id": "3099fcf1",
   "metadata": {},
   "outputs": [
    {
     "data": {
      "text/plain": [
       "21571632.070000004"
      ]
     },
     "execution_count": 12,
     "metadata": {},
     "output_type": "execute_result"
    }
   ],
   "source": [
    "un = set(df_2015[\"customer_email\"]).difference(set(df_2016[\"customer_email\"]))\n",
    "df_2015[df_2015[\"customer_email\"].isin(un)][\"net_revenue\"].sum()"
   ]
  },
  {
   "cell_type": "code",
   "execution_count": 13,
   "id": "841a72df",
   "metadata": {},
   "outputs": [
    {
     "data": {
      "text/plain": [
       "13405179.62"
      ]
     },
     "execution_count": 13,
     "metadata": {},
     "output_type": "execute_result"
    }
   ],
   "source": [
    "#revnue lost from attrition in 2017 as compare to 2016\n",
    "df3 = df[(df[\"customer_email\"].isin(df_2015[\"customer_email\"].unique()) & df[\"customer_email\"].isin(df_2016[\"customer_email\"].unique()) & ~ df[\"customer_email\"].isin(df_2017[\"customer_email\"].unique()))]\n",
    "revenue_lost_2017 = round(df3[\"net_revenue\"].sum(), 3)\n",
    "revenue_lost_2017"
   ]
  },
  {
   "cell_type": "markdown",
   "id": "4e1a1233",
   "metadata": {},
   "source": [
    "The revenue lost from attrition in 2016 is 13405179.62."
   ]
  },
  {
   "cell_type": "markdown",
   "id": "a4257f58",
   "metadata": {},
   "source": [
    "#### Existing Customer Revenue Current Year"
   ]
  },
  {
   "cell_type": "code",
   "execution_count": 14,
   "id": "e805f3b5",
   "metadata": {},
   "outputs": [
    {
     "data": {
      "text/plain": [
       "7485452.58"
      ]
     },
     "execution_count": 14,
     "metadata": {},
     "output_type": "execute_result"
    }
   ],
   "source": [
    "#existing customer revnue in for current year 2016\n",
    "df3 = df[df[\"year\"] != 2017]\n",
    "df3 = df3[(df3[\"customer_email\"].isin(df_2015[\"customer_email\"].unique()) & df3[\"customer_email\"].isin(df_2016[\"customer_email\"].unique()))]\n",
    "df3[df3[\"year\"] == 2016][\"net_revenue\"].sum()"
   ]
  },
  {
   "cell_type": "markdown",
   "id": "897b9deb",
   "metadata": {},
   "source": [
    "The revenue generated from existing customers in current year 2016 is 7485452.58."
   ]
  },
  {
   "cell_type": "code",
   "execution_count": 15,
   "id": "c89ffb1f",
   "metadata": {},
   "outputs": [
    {
     "data": {
      "text/plain": [
       "2641259.99"
      ]
     },
     "execution_count": 15,
     "metadata": {},
     "output_type": "execute_result"
    }
   ],
   "source": [
    "#existing customer revnue in 2017\n",
    "df3 = df[df[\"year\"] != 2015]\n",
    "df3 = df3[(df3[\"customer_email\"].isin(df_2016[\"customer_email\"].unique()) & df3[\"customer_email\"].isin(df_2017[\"customer_email\"].unique()))]\n",
    "df3[df3[\"year\"] == 2017][\"net_revenue\"].sum()"
   ]
  },
  {
   "cell_type": "markdown",
   "id": "5b38190a",
   "metadata": {},
   "source": [
    "The revnue generated from existing customers in 2017 is 2641259.99."
   ]
  },
  {
   "cell_type": "markdown",
   "id": "65772d2e",
   "metadata": {},
   "source": [
    "#### Existing Customer Revenue Prior Year"
   ]
  },
  {
   "cell_type": "code",
   "execution_count": 16,
   "id": "3e0be56b",
   "metadata": {},
   "outputs": [
    {
     "data": {
      "text/plain": [
       "7465117.12"
      ]
     },
     "execution_count": 16,
     "metadata": {},
     "output_type": "execute_result"
    }
   ],
   "source": [
    "#existing customer revnue in prior year 2015\n",
    "df3 = df[df[\"year\"] != 2017]\n",
    "df3 = df3[(df3[\"customer_email\"].isin(df_2015[\"customer_email\"].unique()) & df3[\"customer_email\"].isin(df_2016[\"customer_email\"].unique()))]\n",
    "df3[df3[\"year\"] == 2015][\"net_revenue\"].sum()"
   ]
  },
  {
   "cell_type": "markdown",
   "id": "aebfb434",
   "metadata": {},
   "source": [
    "The revenue generated from existing customers in prior year 2015 is 7465117.12."
   ]
  },
  {
   "cell_type": "code",
   "execution_count": 17,
   "id": "e4c0a62c",
   "metadata": {},
   "outputs": [
    {
     "data": {
      "text/plain": [
       "2620648.65"
      ]
     },
     "execution_count": 17,
     "metadata": {},
     "output_type": "execute_result"
    }
   ],
   "source": [
    "#existing customer revnue in prior year 2016\n",
    "df3 = df[df[\"year\"] != 2015]\n",
    "df3 = df3[(df3[\"customer_email\"].isin(df_2016[\"customer_email\"].unique()) & df3[\"customer_email\"].isin(df_2017[\"customer_email\"].unique()))]\n",
    "df3[df3[\"year\"] == 2016][\"net_revenue\"].sum()"
   ]
  },
  {
   "cell_type": "markdown",
   "id": "e6a3803e",
   "metadata": {},
   "source": [
    "The revenue generated from existing customer in prior year 2016 is 2620648.65."
   ]
  },
  {
   "cell_type": "markdown",
   "id": "688963f4",
   "metadata": {},
   "source": [
    "#### Total Customers Current Year"
   ]
  },
  {
   "cell_type": "code",
   "execution_count": 18,
   "id": "c4492d07",
   "metadata": {},
   "outputs": [
    {
     "data": {
      "text/plain": [
       "204646"
      ]
     },
     "execution_count": 18,
     "metadata": {},
     "output_type": "execute_result"
    }
   ],
   "source": [
    "#total customers in 2016\n",
    "df[df[\"year\"] == 2016][\"customer_email\"].nunique()"
   ]
  },
  {
   "cell_type": "markdown",
   "id": "477dd3e8",
   "metadata": {},
   "source": [
    "There are total 204646 customers in 2016."
   ]
  },
  {
   "cell_type": "code",
   "execution_count": 19,
   "id": "61695083",
   "metadata": {},
   "outputs": [
    {
     "data": {
      "text/plain": [
       "249987"
      ]
     },
     "execution_count": 19,
     "metadata": {},
     "output_type": "execute_result"
    }
   ],
   "source": [
    "#total customers in 2017\n",
    "df[df[\"year\"] == 2017][\"customer_email\"].nunique()"
   ]
  },
  {
   "cell_type": "markdown",
   "id": "521242fd",
   "metadata": {},
   "source": [
    "There are total 249987 customers in 2017."
   ]
  },
  {
   "cell_type": "markdown",
   "id": "a8fb0aaa",
   "metadata": {},
   "source": [
    "#### Total Customers Previous Year"
   ]
  },
  {
   "cell_type": "code",
   "execution_count": 20,
   "id": "f1025151",
   "metadata": {},
   "outputs": [
    {
     "data": {
      "text/plain": [
       "231294"
      ]
     },
     "execution_count": 20,
     "metadata": {},
     "output_type": "execute_result"
    }
   ],
   "source": [
    "#total customers in year 2015\n",
    "df[df[\"year\"] == 2015][\"customer_email\"].nunique()"
   ]
  },
  {
   "cell_type": "markdown",
   "id": "5a9cd96f",
   "metadata": {},
   "source": [
    "There are total 231294 customers in year 2015."
   ]
  },
  {
   "cell_type": "code",
   "execution_count": 21,
   "id": "f4875833",
   "metadata": {},
   "outputs": [
    {
     "data": {
      "text/plain": [
       "204646"
      ]
     },
     "execution_count": 21,
     "metadata": {},
     "output_type": "execute_result"
    }
   ],
   "source": [
    "#total customers in year 2016\n",
    "df[df[\"year\"] == 2016][\"customer_email\"].nunique()"
   ]
  },
  {
   "cell_type": "markdown",
   "id": "4a238823",
   "metadata": {},
   "source": [
    "There are total 204646 customers in year 2016."
   ]
  },
  {
   "cell_type": "markdown",
   "id": "4f2f84f1",
   "metadata": {},
   "source": [
    "#### New Customers"
   ]
  },
  {
   "cell_type": "code",
   "execution_count": 22,
   "id": "5903a1fa",
   "metadata": {},
   "outputs": [
    {
     "data": {
      "text/plain": [
       "145062"
      ]
     },
     "execution_count": 22,
     "metadata": {},
     "output_type": "execute_result"
    }
   ],
   "source": [
    "#new customers in 2016\n",
    "df2 = df[df[\"year\"] != 2017]\n",
    "df3 = df2[(df2[\"customer_email\"].isin(df_2016[\"customer_email\"].unique())) & (~df2[\"customer_email\"].isin(df_2015[\"customer_email\"].unique()))]\n",
    "df3['customer_email'].nunique()"
   ]
  },
  {
   "cell_type": "markdown",
   "id": "448d934e",
   "metadata": {},
   "source": [
    "There are total 145062 new customers in 2016."
   ]
  },
  {
   "cell_type": "code",
   "execution_count": 23,
   "id": "5d39532f",
   "metadata": {},
   "outputs": [
    {
     "data": {
      "text/plain": [
       "228262"
      ]
     },
     "execution_count": 23,
     "metadata": {},
     "output_type": "execute_result"
    }
   ],
   "source": [
    "#new customers in 2017\n",
    "df3 = df[(df[\"customer_email\"].isin(df_2017[\"customer_email\"].unique())) & (~df[\"customer_email\"].isin(df_2015[\"customer_email\"].unique())) & (~df[\"customer_email\"].isin(df_2016[\"customer_email\"].unique()))]\n",
    "df3['customer_email'].nunique()"
   ]
  },
  {
   "cell_type": "markdown",
   "id": "a5b36df2",
   "metadata": {},
   "source": [
    "There are total 228262 new customers in year 2017."
   ]
  },
  {
   "cell_type": "markdown",
   "id": "cc8d6847",
   "metadata": {},
   "source": [
    "#### Lost Customers"
   ]
  },
  {
   "cell_type": "code",
   "execution_count": 24,
   "id": "741dc747",
   "metadata": {},
   "outputs": [
    {
     "data": {
      "text/plain": [
       "170944"
      ]
     },
     "execution_count": 24,
     "metadata": {},
     "output_type": "execute_result"
    }
   ],
   "source": [
    "#lost customers in 2016\n",
    "df_l_2016 = df[(df[\"customer_email\"].isin(df_2015[\"customer_email\"].unique())) & (~df[\"customer_email\"].isin(df_2016[\"customer_email\"].unique())) &\n",
    "               (~df[\"customer_email\"].isin(df_2017[\"customer_email\"].unique()))]\n",
    "df_l_2016[\"customer_email\"].nunique()"
   ]
  },
  {
   "cell_type": "markdown",
   "id": "a5335da5",
   "metadata": {},
   "source": [
    "There are total 170944 lost customers in 2016."
   ]
  },
  {
   "cell_type": "code",
   "execution_count": 25,
   "id": "05ad5e89",
   "metadata": {},
   "outputs": [
    {
     "data": {
      "text/plain": [
       "228262"
      ]
     },
     "execution_count": 25,
     "metadata": {},
     "output_type": "execute_result"
    }
   ],
   "source": [
    "#lost customers in 2017\n",
    "df_l_2017 = df[(df[\"customer_email\"].isin(df_2017[\"customer_email\"].unique())) & (~df[\"customer_email\"].isin(df_2016[\"customer_email\"].unique())) &\n",
    "               (~df[\"customer_email\"].isin(df_2015[\"customer_email\"].unique()))]\n",
    "df_l_2017[\"customer_email\"].nunique()"
   ]
  },
  {
   "cell_type": "markdown",
   "id": "0ad57a4f",
   "metadata": {},
   "source": [
    "There are total 228262 customers lost in year 2017."
   ]
  },
  {
   "cell_type": "markdown",
   "id": "8343ca4d",
   "metadata": {},
   "source": [
    "#### Additionally, generate a few unique plots highlighting some information from the dataset. Are there any interesting observations?"
   ]
  },
  {
   "cell_type": "code",
   "execution_count": 26,
   "id": "ae645150",
   "metadata": {},
   "outputs": [
    {
     "data": {
      "image/png": "[encoded data removed]",
      "text/plain": [
       "<Figure size 720x432 with 1 Axes>"
      ]
     },
     "metadata": {
      "needs_background": "light"
     },
     "output_type": "display_data"
    }
   ],
   "source": [
    "#plotting distribution of net_revenue by year\n",
    "import seaborn as sns\n",
    "import matplotlib.pyplot as plt\n",
    "plt.figure(figsize = (10,6))\n",
    "sns.boxplot(x = \"year\", y = \"net_revenue\", data = df)\n",
    "plt.title(\"Distribution of Net Revenue by Year\", fontsize = 16)\n",
    "plt.show()"
   ]
  },
  {
   "cell_type": "markdown",
   "id": "99c270b3",
   "metadata": {},
   "source": [
    "From above plot, it can be seen that there is not significant difference in the distribution of revnue for year 2015 2016 and 2017 and the average revnue for each three years is almost same."
   ]
  },
  {
   "cell_type": "code",
   "execution_count": 27,
   "id": "bccd79e0",
   "metadata": {},
   "outputs": [
    {
     "data": {
      "image/png": "[encoded data removed]",
      "text/plain": [
       "<Figure size 720x432 with 1 Axes>"
      ]
     },
     "metadata": {
      "needs_background": "light"
     },
     "output_type": "display_data"
    }
   ],
   "source": [
    "#plotting distribution of existing customers revenue by year\n",
    "df2 = df[df[\"year\"] != 2017]\n",
    "df3 = df2[(df2[\"customer_email\"].isin(df_2016[\"customer_email\"].unique())) & (df2[\"customer_email\"].isin(df_2015[\"customer_email\"].unique()))]\n",
    "df3 = df3[df3[\"year\"] == 2016]\n",
    "df4 = df[(df[\"customer_email\"].isin(df_2017[\"customer_email\"].unique())) & (df[\"customer_email\"].isin(df_2015[\"customer_email\"].unique()) | df[\"customer_email\"].isin(df_2016[\"customer_email\"].unique()))]\n",
    "df5 = df4[df4[\"year\"] == 2017]\n",
    "dff = pd.concat([df3, df5])\n",
    "#plt.figure()\n",
    "dff.groupby(\"year\")[\"net_revenue\"].sum().plot(kind = \"bar\", figsize = (10, 6))\n",
    "plt.title(\"Total Existing customers revenue by year\", fontsize = 16)\n",
    "plt.show()"
   ]
  },
  {
   "cell_type": "markdown",
   "id": "10a01a6f",
   "metadata": {},
   "source": [
    "From above plot, it is pretty evident that the revenue for exisiting customers in 2016 is much higher as compare to the revnue in 2017."
   ]
  },
  {
   "cell_type": "code",
   "execution_count": 28,
   "id": "7c10ed3e",
   "metadata": {},
   "outputs": [
    {
     "data": {
      "image/png": "[encoded data removed]",
      "text/plain": [
       "<Figure size 720x432 with 1 Axes>"
      ]
     },
     "metadata": {
      "needs_background": "light"
     },
     "output_type": "display_data"
    }
   ],
   "source": [
    "#plotting total revenue for new customers by year\n",
    "df2 = df[df[\"year\"] != 2017]\n",
    "df3 = df2[(df2[\"customer_email\"].isin(df_2016[\"customer_email\"].unique()) & ~df2[\"customer_email\"].isin(df_2015[\"customer_email\"].unique()))]\n",
    "df4 = df[(df[\"customer_email\"].isin(df_2017[\"customer_email\"].unique()) & ~df[\"customer_email\"].isin(df_2016[\"customer_email\"].unique()) & ~df[\"customer_email\"].isin(df_2015[\"customer_email\"].unique()))]\n",
    "df5 = pd.concat([df3, df4])\n",
    "df5.groupby(\"year\")[\"net_revenue\"].sum().plot(kind = \"bar\", figsize = (10, 6))\n",
    "plt.title(\"Total New customers revenue by year\", fontsize = 16)\n",
    "plt.show()"
   ]
  },
  {
   "cell_type": "markdown",
   "id": "47384b84",
   "metadata": {},
   "source": [
    "From above plot, it is pretty clear that the new customers revnue in 2017 is much high as compare to the new customers revnue in 2016."
   ]
  }
 ],
 "metadata": {
  "kernelspec": {
   "display_name": "Python 3 (ipykernel)",
   "language": "python",
   "name": "python3"
  },
  "language_info": {
   "codemirror_mode": {
    "name": "ipython",
    "version": 3
   },
   "file_extension": ".py",
   "mimetype": "text/x-python",
   "name": "python",
   "nbconvert_exporter": "python",
   "pygments_lexer": "ipython3",
   "version": "3.9.12"
  }
 },
 "nbformat": 4,
 "nbformat_minor": 5
}
